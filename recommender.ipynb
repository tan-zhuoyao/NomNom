{
 "cells": [
  {
   "cell_type": "markdown",
   "id": "fd73ec82",
   "metadata": {},
   "source": [
    "# Model-Based Collaborative Filtering Recommender System"
   ]
  },
  {
   "cell_type": "markdown",
   "id": "c68ca03b",
   "metadata": {},
   "source": [
    "## Import Libraries, Check Region"
   ]
  },
  {
   "cell_type": "code",
   "execution_count": 1,
   "id": "c47a0083",
   "metadata": {},
   "outputs": [
    {
     "name": "stdout",
     "output_type": "stream",
     "text": [
      "Success - the MySageMakerInstance is in the us-east-1 region.\n"
     ]
    }
   ],
   "source": [
    "import boto3\n",
    "from sagemaker import get_execution_role\n",
    "import numpy as np\n",
    "import pandas as pd\n",
    "\n",
    "# Define IAM role\n",
    "role = get_execution_role()\n",
    "prefix = 'sagemaker/test-recommender'\n",
    "my_region = boto3.session.Session().region_name # set the region of the instance\n",
    "\n",
    "print(\"Success - the MySageMakerInstance is in the \" + my_region + \" region.\")"
   ]
  },
  {
   "cell_type": "markdown",
   "id": "3d1fc905",
   "metadata": {},
   "source": [
    "## Preprocessing"
   ]
  },
  {
   "cell_type": "code",
   "execution_count": 2,
   "id": "9f19e23f",
   "metadata": {},
   "outputs": [
    {
     "data": {
      "text/html": [
       "<div>\n",
       "<style scoped>\n",
       "    .dataframe tbody tr th:only-of-type {\n",
       "        vertical-align: middle;\n",
       "    }\n",
       "\n",
       "    .dataframe tbody tr th {\n",
       "        vertical-align: top;\n",
       "    }\n",
       "\n",
       "    .dataframe thead th {\n",
       "        text-align: right;\n",
       "    }\n",
       "</style>\n",
       "<table border=\"1\" class=\"dataframe\">\n",
       "  <thead>\n",
       "    <tr style=\"text-align: right;\">\n",
       "      <th></th>\n",
       "      <th>id_source</th>\n",
       "      <th>name</th>\n",
       "      <th>address</th>\n",
       "      <th>country</th>\n",
       "      <th>cuisine</th>\n",
       "      <th>currency</th>\n",
       "      <th>delivery_cost</th>\n",
       "      <th>lat</th>\n",
       "      <th>lon</th>\n",
       "      <th>opening_hours</th>\n",
       "      <th>image_url</th>\n",
       "      <th>radius</th>\n",
       "      <th>rating</th>\n",
       "      <th>reviews_nr</th>\n",
       "      <th>delivery_options</th>\n",
       "      <th>promo</th>\n",
       "      <th>loc_type</th>\n",
       "      <th>delivery_by</th>\n",
       "      <th>delivery_time</th>\n",
       "    </tr>\n",
       "  </thead>\n",
       "  <tbody>\n",
       "    <tr>\n",
       "      <th>1</th>\n",
       "      <td>4-CYTDLPUJEP53N6</td>\n",
       "      <td>Subway</td>\n",
       "      <td>Subway - Vivocity</td>\n",
       "      <td>Singapore</td>\n",
       "      <td>[\"Healthy\", \"Sandwiches\", \"Fast Food\", \"Halal\"...</td>\n",
       "      <td>SGD</td>\n",
       "      <td>570.0</td>\n",
       "      <td>1.264741</td>\n",
       "      <td>103.822072</td>\n",
       "      <td>{\"open\": true, \"displayedHours\": \"12:00-19:00\"...</td>\n",
       "      <td>https://d1sag4ddilekf6.cloudfront.net/compress...</td>\n",
       "      <td>3000</td>\n",
       "      <td>4.2</td>\n",
       "      <td>197.0</td>\n",
       "      <td>ONLY_DELIVERY</td>\n",
       "      <td>Use 'TEATIME' for FREE delivery between 3PM to...</td>\n",
       "      <td>FOOD</td>\n",
       "      <td>GRAB</td>\n",
       "      <td>42.0</td>\n",
       "    </tr>\n",
       "    <tr>\n",
       "      <th>3</th>\n",
       "      <td>SGDD07548</td>\n",
       "      <td>Wingstop</td>\n",
       "      <td>Wingstop - VivoCity</td>\n",
       "      <td>Singapore</td>\n",
       "      <td>[\"Halal\", \"Chicken\", \"Fast Food\", \"Burger\", \"W...</td>\n",
       "      <td>SGD</td>\n",
       "      <td>560.0</td>\n",
       "      <td>1.263527</td>\n",
       "      <td>103.821712</td>\n",
       "      <td>{\"open\": true, \"displayedHours\": \"11:00-21:00\"...</td>\n",
       "      <td>https://d1sag4ddilekf6.cloudfront.net/compress...</td>\n",
       "      <td>5000</td>\n",
       "      <td>4.4</td>\n",
       "      <td>1391.0</td>\n",
       "      <td>ONLY_DELIVERY</td>\n",
       "      <td>Use 'TEATIME' for FREE delivery between 3PM to...</td>\n",
       "      <td>FOOD</td>\n",
       "      <td>GRAB</td>\n",
       "      <td>45.0</td>\n",
       "    </tr>\n",
       "    <tr>\n",
       "      <th>4</th>\n",
       "      <td>4-CY2ZLZLTT2EDJ2</td>\n",
       "      <td>Le Shrimp Ramen</td>\n",
       "      <td>Le Shrimp Ramen - Vivocity</td>\n",
       "      <td>Singapore</td>\n",
       "      <td>[\"Japanese\", \"Ramen\", \"Noodles\", \"Asian\"]</td>\n",
       "      <td>SGD</td>\n",
       "      <td>570.0</td>\n",
       "      <td>1.264810</td>\n",
       "      <td>103.822554</td>\n",
       "      <td>{\"open\": true, \"displayedHours\": \"10:30-21:00\"...</td>\n",
       "      <td>https://d1sag4ddilekf6.cloudfront.net/compress...</td>\n",
       "      <td>5000</td>\n",
       "      <td>4.6</td>\n",
       "      <td>309.0</td>\n",
       "      <td>DELIVERY_TAKEAWAY</td>\n",
       "      <td>Use 'TEATIME' for FREE delivery between 3PM to...</td>\n",
       "      <td>FOOD</td>\n",
       "      <td>GRAB</td>\n",
       "      <td>44.0</td>\n",
       "    </tr>\n",
       "    <tr>\n",
       "      <th>6</th>\n",
       "      <td>4-CY3TEKXEVCN1J6</td>\n",
       "      <td>Burger King</td>\n",
       "      <td>Burger King - VivoCity</td>\n",
       "      <td>Singapore</td>\n",
       "      <td>[\"American\", \"Burger\", \"Halal\"]</td>\n",
       "      <td>SGD</td>\n",
       "      <td>560.0</td>\n",
       "      <td>1.263741</td>\n",
       "      <td>103.821354</td>\n",
       "      <td>{\"open\": true, \"displayedHours\": \"09:00-21:45\"...</td>\n",
       "      <td>https://d1sag4ddilekf6.cloudfront.net/compress...</td>\n",
       "      <td>5000</td>\n",
       "      <td>4.1</td>\n",
       "      <td>389.0</td>\n",
       "      <td>ONLY_DELIVERY</td>\n",
       "      <td>Use 'TEATIME' for FREE delivery between 3PM to...</td>\n",
       "      <td>FOOD</td>\n",
       "      <td>GRAB</td>\n",
       "      <td>41.0</td>\n",
       "    </tr>\n",
       "    <tr>\n",
       "      <th>7</th>\n",
       "      <td>4-C2NXGNCCHBXCE2</td>\n",
       "      <td>Egg Stop</td>\n",
       "      <td>Egg Stop - VivoCity</td>\n",
       "      <td>Singapore</td>\n",
       "      <td>[\"Breakfast &amp; Brunch\", \"Korean\", \"Sandwiches\",...</td>\n",
       "      <td>SGD</td>\n",
       "      <td>409.0</td>\n",
       "      <td>1.264835</td>\n",
       "      <td>103.821785</td>\n",
       "      <td>{\"open\": true, \"displayedHours\": \"10:30-21:00\"...</td>\n",
       "      <td>https://d1sag4ddilekf6.cloudfront.net/compress...</td>\n",
       "      <td>3000</td>\n",
       "      <td>3.5</td>\n",
       "      <td>25.0</td>\n",
       "      <td>DELIVERY_TAKEAWAY</td>\n",
       "      <td>$0 Delivery Fee (min. $25 spend)!</td>\n",
       "      <td>FOOD</td>\n",
       "      <td>GRAB</td>\n",
       "      <td>39.0</td>\n",
       "    </tr>\n",
       "  </tbody>\n",
       "</table>\n",
       "</div>"
      ],
      "text/plain": [
       "          id_source             name                     address    country  \\\n",
       "1  4-CYTDLPUJEP53N6           Subway           Subway - Vivocity  Singapore   \n",
       "3         SGDD07548         Wingstop         Wingstop - VivoCity  Singapore   \n",
       "4  4-CY2ZLZLTT2EDJ2  Le Shrimp Ramen  Le Shrimp Ramen - Vivocity  Singapore   \n",
       "6  4-CY3TEKXEVCN1J6      Burger King      Burger King - VivoCity  Singapore   \n",
       "7  4-C2NXGNCCHBXCE2         Egg Stop         Egg Stop - VivoCity  Singapore   \n",
       "\n",
       "                                             cuisine currency  delivery_cost  \\\n",
       "1  [\"Healthy\", \"Sandwiches\", \"Fast Food\", \"Halal\"...      SGD          570.0   \n",
       "3  [\"Halal\", \"Chicken\", \"Fast Food\", \"Burger\", \"W...      SGD          560.0   \n",
       "4          [\"Japanese\", \"Ramen\", \"Noodles\", \"Asian\"]      SGD          570.0   \n",
       "6                    [\"American\", \"Burger\", \"Halal\"]      SGD          560.0   \n",
       "7  [\"Breakfast & Brunch\", \"Korean\", \"Sandwiches\",...      SGD          409.0   \n",
       "\n",
       "        lat         lon                                      opening_hours  \\\n",
       "1  1.264741  103.822072  {\"open\": true, \"displayedHours\": \"12:00-19:00\"...   \n",
       "3  1.263527  103.821712  {\"open\": true, \"displayedHours\": \"11:00-21:00\"...   \n",
       "4  1.264810  103.822554  {\"open\": true, \"displayedHours\": \"10:30-21:00\"...   \n",
       "6  1.263741  103.821354  {\"open\": true, \"displayedHours\": \"09:00-21:45\"...   \n",
       "7  1.264835  103.821785  {\"open\": true, \"displayedHours\": \"10:30-21:00\"...   \n",
       "\n",
       "                                           image_url  radius  rating  \\\n",
       "1  https://d1sag4ddilekf6.cloudfront.net/compress...    3000     4.2   \n",
       "3  https://d1sag4ddilekf6.cloudfront.net/compress...    5000     4.4   \n",
       "4  https://d1sag4ddilekf6.cloudfront.net/compress...    5000     4.6   \n",
       "6  https://d1sag4ddilekf6.cloudfront.net/compress...    5000     4.1   \n",
       "7  https://d1sag4ddilekf6.cloudfront.net/compress...    3000     3.5   \n",
       "\n",
       "   reviews_nr   delivery_options  \\\n",
       "1       197.0      ONLY_DELIVERY   \n",
       "3      1391.0      ONLY_DELIVERY   \n",
       "4       309.0  DELIVERY_TAKEAWAY   \n",
       "6       389.0      ONLY_DELIVERY   \n",
       "7        25.0  DELIVERY_TAKEAWAY   \n",
       "\n",
       "                                               promo loc_type delivery_by  \\\n",
       "1  Use 'TEATIME' for FREE delivery between 3PM to...     FOOD        GRAB   \n",
       "3  Use 'TEATIME' for FREE delivery between 3PM to...     FOOD        GRAB   \n",
       "4  Use 'TEATIME' for FREE delivery between 3PM to...     FOOD        GRAB   \n",
       "6  Use 'TEATIME' for FREE delivery between 3PM to...     FOOD        GRAB   \n",
       "7                  $0 Delivery Fee (min. $25 spend)!     FOOD        GRAB   \n",
       "\n",
       "   delivery_time  \n",
       "1           42.0  \n",
       "3           45.0  \n",
       "4           44.0  \n",
       "6           41.0  \n",
       "7           39.0  "
      ]
     },
     "execution_count": 2,
     "metadata": {},
     "output_type": "execute_result"
    }
   ],
   "source": [
    "df = pd.read_csv('SG_Restaurants.csv')\n",
    "\n",
    "# Drop rows with NA\n",
    "df = df.dropna()\n",
    "\n",
    "# Remove Beverage companies from data\n",
    "df = df[~df['cuisine'].str.contains(\"Beverages\")]\n",
    "df.head()"
   ]
  },
  {
   "cell_type": "code",
   "execution_count": 4,
   "id": "8142c54e",
   "metadata": {},
   "outputs": [],
   "source": [
    "# Create restaurant name to ID and ID to restaurant name dictionaries\n",
    "\n",
    "restaurant2rid = {}\n",
    "rid2restaurant = {}\n",
    "df_rand = df.sample(n=69, random_state=2)\n",
    "df_rnames = df_rand['name'].tolist()\n",
    "for idx, name in enumerate(df_rnames):\n",
    "    restaurant2rid['name'] = idx\n",
    "    rid2restaurant[idx] = name"
   ]
  },
  {
   "cell_type": "code",
   "execution_count": 5,
   "id": "6c5b4515",
   "metadata": {},
   "outputs": [],
   "source": [
    "# Mock ratings\n",
    "\n",
    "rating_df = pd.read_csv('MOCK_DATA.csv')\n",
    "rating_df = rating_df[['user_id', 'restaurant_id', 'rating']].drop_duplicates()\n",
    "rating_df.loc[rating_df.rating == 1, 'rating'] = 0"
   ]
  },
  {
   "cell_type": "code",
   "execution_count": 6,
   "id": "e94f9319",
   "metadata": {},
   "outputs": [],
   "source": [
    "M = np.zeros((11, 69))\n",
    "for ridx, row in rating_df.iterrows():\n",
    "    M[row.user_id-1][row.restaurant_id-10001] = row.rating"
   ]
  },
  {
   "cell_type": "code",
   "execution_count": 7,
   "id": "8b8d8d52",
   "metadata": {},
   "outputs": [],
   "source": [
    "# Save unvisited restaurants\n",
    "unvisited = {}\n",
    "for userid, user in enumerate(M):\n",
    "    unvisited[userid] = [rid for rid, i in enumerate(M[userid]) if i == 0]"
   ]
  },
  {
   "cell_type": "markdown",
   "id": "69b28b78",
   "metadata": {},
   "source": [
    "## Model Training"
   ]
  },
  {
   "cell_type": "code",
   "execution_count": 8,
   "id": "df0626ab",
   "metadata": {},
   "outputs": [],
   "source": [
    "# Define non-negative matrix factorization class\n",
    "\n",
    "class NMF:\n",
    "    \n",
    "    def __init__(self, M, k=100):\n",
    "        self.M, self.k = M, k\n",
    "    \n",
    "        num_users, num_items = M.shape\n",
    "        \n",
    "        self.Z = np.argwhere(M != 0)\n",
    "        self.W = np.random.rand(num_users, k)\n",
    "        self.H = np.random.rand(k, num_items)\n",
    "\n",
    "        \n",
    "    def calc_loss(self):\n",
    "        return np.sum(np.square((self.M - np.dot(self.W, self.H)))[self.M != 0])\n",
    "    \n",
    "    \n",
    "    def fit(self, learning_rate=0.0001, lambda_reg=0.1, num_iter=3500, verbose=False):\n",
    "        for it in range(num_iter):\n",
    "            wh = np.dot(self.W, self.H)\n",
    "            wh[self.M == 0] = 0\n",
    "            grad_w = -2 * np.dot((self.M - wh), self.H.T) + 2 * lambda_reg * self.W\n",
    "            grad_h = -2 * np.dot((self.M - wh).T, self.W).T + 2 * lambda_reg * self.H\n",
    "\n",
    "            self.W -= learning_rate * grad_w\n",
    "            self.H -= learning_rate * grad_h    \n",
    "\n",
    "            # Print loss every 10% of the iterations\n",
    "            if verbose == True:\n",
    "                if(it % (num_iter/10) == 0):\n",
    "                    print('Loss: {:.5f} \\t {:.0f}%'.format(self.calc_loss(), (it / (num_iter/100))))\n",
    "\n",
    "        # Print final loss        \n",
    "        if verbose == True:\n",
    "            print('Loss: {:.5f} \\t 100%'.format(self.calc_loss()))        \n",
    "        \n",
    "        \n",
    "    def predict(self):\n",
    "        return np.dot(self.W, self.H)"
   ]
  },
  {
   "cell_type": "code",
   "execution_count": 9,
   "id": "9acadbb1",
   "metadata": {},
   "outputs": [
    {
     "name": "stdout",
     "output_type": "stream",
     "text": [
      "Initial loss: 223437.2\n"
     ]
    }
   ],
   "source": [
    "# Get initial loss\n",
    "\n",
    "np.random.seed(0)\n",
    "\n",
    "nmf = NMF(M)\n",
    "\n",
    "loss = nmf.calc_loss()\n",
    "\n",
    "print('Initial loss: {:.1f}'.format(loss))"
   ]
  },
  {
   "cell_type": "code",
   "execution_count": 10,
   "id": "d82ea97a",
   "metadata": {},
   "outputs": [
    {
     "name": "stdout",
     "output_type": "stream",
     "text": [
      "Loss: 122668.66669 \t 0%\n",
      "Loss: 107.27122 \t 10%\n",
      "Loss: 14.73573 \t 20%\n",
      "Loss: 2.50975 \t 30%\n",
      "Loss: 0.56479 \t 40%\n",
      "Loss: 0.18596 \t 50%\n",
      "Loss: 0.09759 \t 60%\n",
      "Loss: 0.07361 \t 70%\n",
      "Loss: 0.06637 \t 80%\n",
      "Loss: 0.06416 \t 90%\n",
      "Loss: 0.06364 \t 100%\n"
     ]
    }
   ],
   "source": [
    "# Train model\n",
    "\n",
    "np.random.seed(0)\n",
    "\n",
    "nmf = NMF(M)\n",
    "\n",
    "nmf.fit(verbose=True)"
   ]
  },
  {
   "cell_type": "code",
   "execution_count": 11,
   "id": "27d1aa44",
   "metadata": {},
   "outputs": [
    {
     "name": "stdout",
     "output_type": "stream",
     "text": [
      "[0. 2. 0. 2. 0. 5. 2. 3. 4. 2. 0. 3. 5. 5. 0. 3. 0. 3. 2. 3. 0. 5. 4. 4.\n",
      " 3. 4. 2. 0. 0. 0. 0. 4. 0. 2. 5. 5. 0. 0. 0. 2. 3. 5. 0. 0. 5. 3. 0. 5.\n",
      " 0. 4. 5. 5. 4. 2. 0. 0. 4. 0. 3. 2. 5. 0. 2. 2. 0. 5. 3. 0. 3.]\n"
     ]
    }
   ],
   "source": [
    "print(M[9])"
   ]
  },
  {
   "cell_type": "code",
   "execution_count": 12,
   "id": "005a27a7",
   "metadata": {
    "scrolled": true
   },
   "outputs": [
    {
     "name": "stdout",
     "output_type": "stream",
     "text": [
      "[[4.99 3.   2.02 4.99 3.9  4.99 2.01 4.98 3.01 3.12 4.99 2.01 4.72 4.3\n",
      "  3.   4.98 2.01 2.01 3.99 3.01 3.27 3.99 4.32 3.99 3.   4.99 3.28 2.72\n",
      "  3.13 3.99 2.01 4.35 3.01 4.98 4.99 3.01 4.77 2.01 2.01 3.11 3.99 2.02\n",
      "  3.   3.99 3.01 4.98 3.99 3.89 3.17 3.99 3.87 3.99 2.01 4.56 3.   4.\n",
      "  3.65 2.02 3.99 3.   2.54 3.   2.01 2.02 3.99 3.99 3.99 4.02 3.87]\n",
      " [2.01 4.   2.01 4.98 1.9  3.   2.01 3.99 4.23 3.   3.   4.25 3.01 3.37\n",
      "  3.99 2.01 4.98 3.62 2.02 4.   3.64 3.   4.9  3.   4.99 4.99 3.01 2.01\n",
      "  2.01 3.01 4.99 3.79 3.75 3.99 4.99 2.01 4.98 4.98 4.99 4.54 3.99 4.36\n",
      "  3.   2.84 3.99 3.49 5.17 2.01 4.99 2.81 3.   3.26 3.3  2.   3.99 3.01\n",
      "  3.54 4.   4.54 4.98 2.01 4.31 4.98 2.01 4.99 2.02 2.01 3.58 2.02]\n",
      " [3.   3.99 4.   4.   3.01 2.02 4.3  4.   4.99 2.02 4.99 3.65 5.06 4.99\n",
      "  4.98 3.01 3.01 3.   4.99 4.99 4.39 4.98 5.33 4.99 3.01 4.05 4.98 3.\n",
      "  3.   4.   4.71 3.   2.02 4.98 5.35 3.99 4.98 4.87 4.99 3.   3.58 3.57\n",
      "  3.   3.5  2.01 2.01 3.86 3.96 4.14 3.   4.   2.02 4.23 2.81 4.   4.34\n",
      "  4.98 3.74 2.02 4.   3.   5.28 2.72 2.82 3.01 4.6  2.01 3.91 3.71]\n",
      " [4.98 2.23 2.4  3.   3.   2.02 2.09 2.22 4.6  4.98 3.99 2.01 3.01 4.98\n",
      "  2.01 3.88 3.25 4.07 2.01 5.45 3.99 3.92 4.   2.02 4.43 4.99 3.99 2.01\n",
      "  4.99 3.   4.98 3.75 2.95 2.01 3.01 3.99 3.99 4.87 2.01 2.01 2.67 4.88\n",
      "  3.76 3.   3.99 3.99 2.01 3.01 4.98 2.01 3.01 3.01 2.01 4.98 4.98 4.99\n",
      "  3.   4.87 4.3  2.63 2.02 3.   3.29 3.   4.43 2.01 3.99 4.   4.03]\n",
      " [2.07 4.98 2.01 2.02 3.01 2.91 2.49 3.86 4.   4.98 4.99 3.99 3.99 4.\n",
      "  2.01 3.   3.84 3.99 3.5  5.85 2.01 2.02 5.11 3.   3.48 4.99 4.   2.01\n",
      "  4.   3.01 4.73 4.12 4.99 3.43 4.68 3.14 4.32 4.99 4.99 4.98 3.54 2.93\n",
      "  4.98 4.99 2.02 2.01 3.61 2.02 3.7  1.93 3.99 3.   2.01 2.02 3.39 4.99\n",
      "  2.01 4.99 4.77 3.76 4.75 3.94 4.   2.01 6.17 2.01 3.06 4.99 4.98]\n",
      " [4.   3.   4.98 4.98 3.99 3.   3.99 3.01 4.99 3.99 4.99 3.99 2.02 4.\n",
      "  2.01 4.84 4.88 3.01 4.99 4.99 4.98 3.01 4.99 4.98 2.02 4.99 2.02 2.01\n",
      "  4.45 4.98 2.01 3.99 4.   3.99 4.99 4.   3.01 2.01 4.   3.41 3.01 5.38\n",
      "  4.23 3.9  3.99 2.01 2.02 5.31 4.99 3.01 4.2  2.02 3.21 3.12 3.01 4.99\n",
      "  3.01 4.   3.88 5.44 3.   2.02 3.99 2.01 4.   4.   2.82 5.59 3.  ]\n",
      " [2.02 2.98 4.99 3.19 4.98 3.24 3.01 4.99 2.02 3.   4.99 2.   4.99 2.02\n",
      "  3.   2.01 3.99 4.   2.02 3.   4.99 4.   4.58 4.98 4.91 4.   4.99 3.8\n",
      "  3.01 3.44 3.99 4.18 3.   4.11 4.   3.79 4.   4.   3.   3.   2.01 4.99\n",
      "  3.01 2.02 3.47 3.98 3.6  3.   4.91 2.01 4.99 4.99 4.98 3.99 4.56 3.71\n",
      "  4.22 4.52 2.02 2.96 2.86 6.04 3.99 4.98 3.01 4.5  4.98 4.92 4.57]\n",
      " [3.99 2.43 4.72 2.01 3.99 2.01 2.01 3.01 3.14 2.01 4.   3.08 2.67 4.\n",
      "  2.01 2.01 4.91 4.98 4.98 4.99 3.01 4.98 4.99 2.02 4.98 4.99 3.01 2.67\n",
      "  2.31 3.04 2.01 4.72 3.74 3.92 4.99 2.02 2.01 4.78 3.81 4.98 3.   4.99\n",
      "  4.15 2.01 4.98 2.01 3.94 3.99 4.   2.33 5.07 2.01 4.13 2.01 4.81 4.99\n",
      "  3.67 2.4  3.99 3.81 4.   3.   3.01 3.95 4.99 4.98 2.83 4.32 2.01]\n",
      " [3.99 3.   4.6  3.4  3.99 3.   3.   4.23 3.5  4.98 2.01 2.01 4.99 3.88\n",
      "  4.98 3.23 2.02 4.98 4.79 4.2  3.   2.01 4.99 2.02 4.   4.99 2.43 3.\n",
      "  4.42 2.01 4.98 3.   2.01 3.72 3.69 3.47 2.02 3.01 4.   2.99 3.   3.48\n",
      "  2.01 4.31 4.98 4.66 3.66 2.01 4.   3.   4.71 3.   4.98 3.99 2.02 2.02\n",
      "  4.99 3.99 3.27 3.   3.36 3.01 2.99 3.99 3.79 2.01 3.01 2.72 3.  ]\n",
      " [3.95 2.01 3.79 2.01 3.17 4.98 2.01 3.01 3.99 2.01 3.57 2.99 4.99 4.99\n",
      "  1.88 3.   3.49 3.   2.01 3.   4.32 4.99 4.   4.   3.   4.   2.02 4.23\n",
      "  4.1  4.92 3.34 3.99 2.5  2.02 4.99 4.99 4.63 3.8  2.74 2.01 3.01 4.99\n",
      "  5.05 3.97 4.99 3.   2.77 4.98 4.26 3.99 4.98 4.98 3.99 2.02 4.87 4.88\n",
      "  4.   2.59 3.   2.01 4.98 3.12 2.01 2.01 3.04 4.99 3.01 5.18 3.  ]\n",
      " [2.01 2.01 2.91 3.01 4.   3.   2.69 3.99 4.99 2.11 5.52 2.01 3.15 4.25\n",
      "  2.01 4.98 4.27 3.   3.99 3.01 4.61 2.01 4.08 4.99 4.98 3.01 4.98 3.6\n",
      "  4.98 4.   2.01 4.98 3.   2.32 4.65 3.99 4.21 2.01 2.33 4.76 3.   3.01\n",
      "  3.99 1.91 2.01 3.   3.   4.   4.99 3.99 3.2  3.59 2.01 3.22 4.98 3.01\n",
      "  4.   4.   4.07 3.99 3.99 3.87 3.01 4.64 4.   3.   3.51 4.   4.02]]\n"
     ]
    }
   ],
   "source": [
    "# Obtain predictions\n",
    "\n",
    "P = nmf.predict()\n",
    "print(np.around(P, 2))"
   ]
  },
  {
   "cell_type": "code",
   "execution_count": 13,
   "id": "2c0e04aa",
   "metadata": {},
   "outputs": [],
   "source": [
    "# Get predicted ratings of users for their respective unvisited restaurants\n",
    "\n",
    "pred_ratings = {}\n",
    "for userid in unvisited:\n",
    "    pred_ratings[userid] = []\n",
    "    for i in range(M.shape[1]):\n",
    "        if i in unvisited[userid]:\n",
    "            pred_ratings[userid].append(P[userid][i])\n",
    "        else:\n",
    "            pred_ratings[userid].append(0)"
   ]
  },
  {
   "cell_type": "code",
   "execution_count": 14,
   "id": "c655e581",
   "metadata": {},
   "outputs": [],
   "source": [
    "# Get Top 5 predictions for each user\n",
    "\n",
    "top5_preds = {}\n",
    "for i in pred_ratings:\n",
    "    ind = np.argsort(pred_ratings[i])\n",
    "    top5_ind = ind[::-1][:5]\n",
    "    restaurants = []\n",
    "    for rid in top5_ind:\n",
    "        restaurants.append(rid2restaurant[rid])\n",
    "    top5_preds[i] = restaurants"
   ]
  },
  {
   "cell_type": "code",
   "execution_count": 17,
   "id": "8e3d5caf",
   "metadata": {},
   "outputs": [
    {
     "name": "stdout",
     "output_type": "stream",
     "text": [
      "['Tim Ho Wan', 'The Providore', 'Teppanyaki Omu Curry Rice & Donburi', 'Kebabs Faktory', 'Megumi Japanese Restaurant']\n"
     ]
    }
   ],
   "source": [
    "print(top5_preds[9])"
   ]
  },
  {
   "cell_type": "code",
   "execution_count": 16,
   "id": "b1451338",
   "metadata": {},
   "outputs": [],
   "source": [
    "res = pd.DataFrame(top5_preds).transpose()\n",
    "res.to_csv('predictions.csv', index=False)"
   ]
  },
  {
   "cell_type": "code",
   "execution_count": 17,
   "id": "3a7a64e3",
   "metadata": {},
   "outputs": [],
   "source": [
    "# Store results in s3 bucket\n",
    "\n",
    "s3 = boto3.resource('s3')\n",
    "s3.meta.client.upload_file('predictions.csv', 'recommenderpredictions', 'predictions.csv')"
   ]
  },
  {
   "cell_type": "code",
   "execution_count": null,
   "id": "5679987e",
   "metadata": {},
   "outputs": [],
   "source": [
    "\"\"\" \n",
    "# Run this cell to create bucket\n",
    "\n",
    "bucket_name = 'recommenderpredictions'\n",
    "s3 = boto3.resource('s3')\n",
    "try:\n",
    "    if  my_region == 'us-east-1':\n",
    "      s3.create_bucket(Bucket=bucket_name)\n",
    "    else: \n",
    "      s3.create_bucket(Bucket=bucket_name, CreateBucketConfiguration={ 'LocationConstraint': my_region })\n",
    "    print('S3 bucket created successfully')\n",
    "except Exception as e:\n",
    "    print('S3 error: ',e)\n",
    "\"\"\""
   ]
  }
 ],
 "metadata": {
  "kernelspec": {
   "display_name": "conda_python3",
   "language": "python",
   "name": "conda_python3"
  },
  "language_info": {
   "codemirror_mode": {
    "name": "ipython",
    "version": 3
   },
   "file_extension": ".py",
   "mimetype": "text/x-python",
   "name": "python",
   "nbconvert_exporter": "python",
   "pygments_lexer": "ipython3",
   "version": "3.10.8"
  }
 },
 "nbformat": 4,
 "nbformat_minor": 5
}
